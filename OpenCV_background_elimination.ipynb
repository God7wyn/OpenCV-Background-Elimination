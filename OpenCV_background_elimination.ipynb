{
  "nbformat": 4,
  "nbformat_minor": 0,
  "metadata": {
    "colab": {
      "name": "Untitled0.ipynb",
      "provenance": [],
      "include_colab_link": true
    },
    "kernelspec": {
      "name": "python3",
      "display_name": "Python 3"
    }
  },
  "cells": [
    {
      "cell_type": "markdown",
      "metadata": {
        "id": "view-in-github",
        "colab_type": "text"
      },
      "source": [
        "<a href=\"https://colab.research.google.com/github/God7wyn/OpenCV-Background-Elimination/blob/master/OpenCV_background_elimination.ipynb\" target=\"_parent\"><img src=\"https://colab.research.google.com/assets/colab-badge.svg\" alt=\"Open In Colab\"/></a>"
      ]
    },
    {
      "cell_type": "markdown",
      "metadata": {
        "id": "fKFRphnlWvmA",
        "colab_type": "text"
      },
      "source": [
        "**The below code is designed to remove background in a moving objects footage**"
      ]
    },
    {
      "cell_type": "code",
      "metadata": {
        "id": "KNHqBGdEWDUN",
        "colab_type": "code",
        "colab": {}
      },
      "source": [
        "import numpy as np\n",
        "import cv2 \n",
        "  \n",
        "cap = cv2.VideoCapture(r'C:\\Users\\Ishan Yash\\Desktop\\VID_20191020_145233.mp4') \n",
        "fgbg = cv2.createBackgroundSubtractorMOG2()  #background elimination\n",
        "  \n",
        "while(1): \n",
        "    ret, frm = cap.read()  #getting the frames  \n",
        "    fgmk = fgbg.apply(frm) #applying the background subs\n",
        "    \n",
        "    fgmask = cv2.resize(fgmk, (712, 400))    #resizing the frames and the output\n",
        "    frame = cv2.resize(frm, (712, 400))\n",
        "    \n",
        "    cv2.imshow('fgmask', frame) #showing output\n",
        "    cv2.imshow('frame', fgmask) \n",
        "  \n",
        "      \n",
        "    k = cv2.waitKey(5) & 0xff\n",
        "    if k == 3:                #to stop the output after 3 button presses\n",
        "        break\n",
        "      \n",
        "  \n",
        "cap.release() \n",
        "cv2.destroyAllWindows()"
      ],
      "execution_count": 0,
      "outputs": []
    }
  ]
}